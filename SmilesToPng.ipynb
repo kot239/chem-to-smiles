{
 "cells": [
  {
   "cell_type": "code",
   "execution_count": 1,
   "metadata": {},
   "outputs": [],
   "source": [
    "import os\n",
    "import json\n",
    "import deepsmiles\n",
    "\n",
    "from rdkit import Chem\n",
    "from rdkit.Chem.Draw import IPythonConsole\n",
    "from rdkit.Chem import Draw\n",
    "from rdkit import RDLogger\n",
    "from rdkit.rdBase import DisableLog\n",
    "\n",
    "for level in RDLogger._levels:\n",
    "    DisableLog(level)\n",
    "    \n",
    "IPythonConsole.ipython_useSVG=False\n",
    "\n",
    "from typing import NoReturn"
   ]
  },
  {
   "cell_type": "code",
   "execution_count": 2,
   "metadata": {},
   "outputs": [],
   "source": [
    "def create_dir_for_images(folder_name: str) -> NoReturn:\n",
    "    if not os.path.exists(folder_name):\n",
    "        os.mkdir(folder_name)\n",
    "\n",
    "def create_filename(num: int) -> str:\n",
    "    return str(num + 1) + '.png'"
   ]
  },
  {
   "cell_type": "code",
   "execution_count": 4,
   "metadata": {},
   "outputs": [
    {
     "name": "stdout",
     "output_type": "stream",
     "text": [
      "FINISH JSON DOWNLOADING\n",
      "FINISH MAKING JSON\n",
      "FINISH SAVING JSON\n"
     ]
    }
   ],
   "source": [
    "INPUT_FILENAME = 'PubChem.json'\n",
    "FOLDER_NAME = 'images'\n",
    "OUTPUT_FILENAME = 'num_of_images.json'\n",
    "\n",
    "# read json from file\n",
    "with open(INPUT_FILENAME, 'r') as json_file:\n",
    "    data = json.load(json_file)\n",
    "print('FINISH JSON DOWNLOADING')\n",
    "\n",
    "# create folder for images\n",
    "create_dir_for_images(FOLDER_NAME)\n",
    "\n",
    "# create converter from smiles to deepsmiles\n",
    "converter = deepsmiles.Converter(rings=True, branches=True)\n",
    "\n",
    "# draw images and save information about number and SMILES in json\n",
    "json_output = []\n",
    "for num, mol_datum in enumerate(data):\n",
    "    mol = Chem.MolFromSmiles(mol_datum['isosmiles'])\n",
    "    if mol and len(mol_datum['isosmiles']) <= 30:\n",
    "        canvas = Draw.rdMolDraw2D.MolDraw2DCairo(*(128, 128))\n",
    "        canvas.drawOptions().setAtomPalette({-1:(0,0,0)})\n",
    "        Draw.rdMolDraw2D.PrepareAndDrawMolecule(canvas, mol)\n",
    "        canvas.WriteDrawingText(os.path.join(FOLDER_NAME, create_filename(num)))\n",
    "        mol_json = {\n",
    "            'deepsmiles': converter.encode(mol_datum['isosmiles']),\n",
    "            'smiles': mol_datum['isosmiles'], \n",
    "            'image_num': num + 1\n",
    "        }\n",
    "        json_output.append(mol_json)\n",
    "print('FINISH MAKING JSON')\n",
    "        \n",
    "# save json to file\n",
    "with open(OUTPUT_FILENAME, 'w') as outfile:\n",
    "    json.dump(json_output, outfile, indent='\\t')\n",
    "print('FINISH SAVING JSON')"
   ]
  },
  {
   "cell_type": "code",
   "execution_count": null,
   "metadata": {},
   "outputs": [],
   "source": []
  }
 ],
 "metadata": {
  "kernelspec": {
   "display_name": "Python 3 (ipykernel)",
   "language": "python",
   "name": "python3"
  },
  "language_info": {
   "codemirror_mode": {
    "name": "ipython",
    "version": 3
   },
   "file_extension": ".py",
   "mimetype": "text/x-python",
   "name": "python",
   "nbconvert_exporter": "python",
   "pygments_lexer": "ipython3",
   "version": "3.9.7"
  }
 },
 "nbformat": 4,
 "nbformat_minor": 4
}
