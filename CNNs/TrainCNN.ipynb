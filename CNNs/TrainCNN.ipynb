{
 "cells": [
  {
   "cell_type": "code",
   "execution_count": 2,
   "id": "1313da4f",
   "metadata": {},
   "outputs": [],
   "source": [
    "import numpy as np\n",
    "import matplotlib.pyplot as plt\n",
    "import matplotlib\n",
    "from keras import Input\n",
    "from keras.models import Sequential, Model, load_model\n",
    "from keras.layers import Dense, Dropout, Softmax, Flatten, Reshape\n",
    "from keras.layers import Conv2D, MaxPooling2D\n",
    "from keras.utils import np_utils\n",
    "from keras.datasets import mnist\n",
    "import tensorflow as tf\n",
    "import os\n",
    "import json\n",
    "import cv2\n",
    "from sklearn.model_selection import train_test_split"
   ]
  },
  {
   "cell_type": "code",
   "execution_count": 21,
   "id": "e9314060",
   "metadata": {},
   "outputs": [],
   "source": [
    "FOLDER_NAME = '../data'\n",
    "OUTPUT_FILENAME = '../data.json'\n",
    "\n",
    "with open(OUTPUT_FILENAME, 'r') as json_file:\n",
    "    data = json.load(json_file)\n",
    "\n",
    "pictures = []\n",
    "letters = []\n",
    "unique_groups = set()\n",
    "for datum in data:\n",
    "    img = cv2.imread(\n",
    "        os.path.join(FOLDER_NAME, datum['pic']),\n",
    "        cv2.IMREAD_GRAYSCALE\n",
    "    )\n",
    "    img = img.astype('float32')\n",
    "    img /= 255\n",
    "    pictures.append(img)\n",
    "    letters.append(datum['group'])\n",
    "    unique_groups.add(datum['group'])\n",
    "pictures = np.expand_dims(np.array(pictures), axis=3)\n",
    "group_to_vec = {gr: i for i, gr in enumerate(unique_groups)}\n",
    "groups = []\n",
    "for letter in letters:\n",
    "    vec = np.zeros(len(unique_groups))\n",
    "    vec[group_to_vec[letter]] = 1\n",
    "    groups.append(vec)\n",
    "groups = np.array(groups)\n",
    "\n",
    "p_train, p_test, l_train, l_test = train_test_split(pictures, groups, test_size=0.2)"
   ]
  },
  {
   "cell_type": "code",
   "execution_count": 22,
   "id": "e4faa6d8",
   "metadata": {},
   "outputs": [
    {
     "name": "stdout",
     "output_type": "stream",
     "text": [
      "12\n"
     ]
    }
   ],
   "source": [
    "input_shape = (32,32,1)\n",
    "output_shape = len(unique_groups)\n",
    "pool_size = (2, 2)\n",
    "conv_filters1 = 32\n",
    "conv_filters2 = 64\n",
    "conv_kernel = 3\n",
    "print(output_shape)"
   ]
  },
  {
   "cell_type": "code",
   "execution_count": 23,
   "id": "5a58c366",
   "metadata": {},
   "outputs": [
    {
     "name": "stdout",
     "output_type": "stream",
     "text": [
      "Model: \"CnnToSmiles\"\n",
      "_________________________________________________________________\n",
      "Layer (type)                 Output Shape              Param #   \n",
      "=================================================================\n",
      "conv2d_6 (Conv2D)            (None, 32, 32, 32)        320       \n",
      "_________________________________________________________________\n",
      "max_pooling2d_6 (MaxPooling2 (None, 16, 16, 32)        0         \n",
      "_________________________________________________________________\n",
      "conv2d_7 (Conv2D)            (None, 16, 16, 64)        18496     \n",
      "_________________________________________________________________\n",
      "max_pooling2d_7 (MaxPooling2 (None, 8, 8, 64)          0         \n",
      "_________________________________________________________________\n",
      "flatten_3 (Flatten)          (None, 4096)              0         \n",
      "_________________________________________________________________\n",
      "dense_6 (Dense)              (None, 512)               2097664   \n",
      "_________________________________________________________________\n",
      "dropout_3 (Dropout)          (None, 512)               0         \n",
      "_________________________________________________________________\n",
      "dense_7 (Dense)              (None, 12)                6156      \n",
      "=================================================================\n",
      "Total params: 2,122,636\n",
      "Trainable params: 2,122,636\n",
      "Non-trainable params: 0\n",
      "_________________________________________________________________\n"
     ]
    }
   ],
   "source": [
    "model = Sequential(name='CnnToSmiles')\n",
    "\n",
    "model.add(Input(shape=(32,32,1)))\n",
    "model.add(Conv2D(filters=conv_filters1, kernel_size=conv_kernel, strides=(1, 1), padding=\"same\"))\n",
    "model.add(MaxPooling2D(pool_size=pool_size))\n",
    "model.add(Conv2D(filters=conv_filters2, kernel_size=conv_kernel, strides=(1, 1), padding=\"same\"))\n",
    "model.add(MaxPooling2D(pool_size=pool_size))\n",
    "model.add(Flatten())\n",
    "model.add(Dense(512, activation='relu'))\n",
    "model.add(Dropout(0.25))\n",
    "model.add(Dense(len(unique_groups), activation='softmax'))\n",
    "\n",
    "model.summary()\n",
    "\n",
    "opt = tf.keras.optimizers.Adam(learning_rate=1e-4)\n",
    "model.compile(optimizer=opt,\n",
    "              loss='categorical_crossentropy',\n",
    "              metrics=['accuracy'])"
   ]
  },
  {
   "cell_type": "code",
   "execution_count": 24,
   "id": "0a939244",
   "metadata": {},
   "outputs": [
    {
     "name": "stdout",
     "output_type": "stream",
     "text": [
      "Epoch 1/20\n",
      "88/88 [==============================] - 3s 33ms/step - loss: 0.9653 - accuracy: 0.7304 - val_loss: 0.5444 - val_accuracy: 0.8529\n",
      "Epoch 2/20\n",
      "88/88 [==============================] - 3s 31ms/step - loss: 0.4747 - accuracy: 0.8700 - val_loss: 0.4250 - val_accuracy: 0.8714\n",
      "Epoch 3/20\n",
      "88/88 [==============================] - 3s 30ms/step - loss: 0.3740 - accuracy: 0.8921 - val_loss: 0.3763 - val_accuracy: 0.8857\n",
      "Epoch 4/20\n",
      "88/88 [==============================] - 3s 31ms/step - loss: 0.3202 - accuracy: 0.8989 - val_loss: 0.3417 - val_accuracy: 0.8929\n",
      "Epoch 5/20\n",
      "88/88 [==============================] - 3s 33ms/step - loss: 0.2822 - accuracy: 0.9121 - val_loss: 0.3163 - val_accuracy: 0.9000\n",
      "Epoch 6/20\n",
      "88/88 [==============================] - 3s 31ms/step - loss: 0.2577 - accuracy: 0.9211 - val_loss: 0.3049 - val_accuracy: 0.9029\n",
      "Epoch 7/20\n",
      "88/88 [==============================] - 3s 31ms/step - loss: 0.2381 - accuracy: 0.9243 - val_loss: 0.3011 - val_accuracy: 0.9057\n",
      "Epoch 8/20\n",
      "88/88 [==============================] - 3s 31ms/step - loss: 0.2248 - accuracy: 0.9339 - val_loss: 0.3008 - val_accuracy: 0.9014\n",
      "Epoch 9/20\n",
      "88/88 [==============================] - 3s 32ms/step - loss: 0.2068 - accuracy: 0.9368 - val_loss: 0.2895 - val_accuracy: 0.9143\n",
      "Epoch 10/20\n",
      "88/88 [==============================] - 3s 32ms/step - loss: 0.1887 - accuracy: 0.9443 - val_loss: 0.2828 - val_accuracy: 0.9157\n",
      "Epoch 11/20\n",
      "88/88 [==============================] - 3s 32ms/step - loss: 0.1778 - accuracy: 0.9468 - val_loss: 0.2749 - val_accuracy: 0.9171\n",
      "Epoch 12/20\n",
      "88/88 [==============================] - 3s 32ms/step - loss: 0.1639 - accuracy: 0.9489 - val_loss: 0.2861 - val_accuracy: 0.9286\n",
      "Epoch 13/20\n",
      "88/88 [==============================] - 3s 32ms/step - loss: 0.1601 - accuracy: 0.9521 - val_loss: 0.2770 - val_accuracy: 0.9157\n",
      "Epoch 14/20\n",
      "88/88 [==============================] - 3s 33ms/step - loss: 0.1451 - accuracy: 0.9568 - val_loss: 0.2695 - val_accuracy: 0.9200\n",
      "Epoch 15/20\n",
      "88/88 [==============================] - 3s 33ms/step - loss: 0.1460 - accuracy: 0.9586 - val_loss: 0.2720 - val_accuracy: 0.9271\n",
      "Epoch 16/20\n",
      "88/88 [==============================] - 3s 32ms/step - loss: 0.1299 - accuracy: 0.9618 - val_loss: 0.2674 - val_accuracy: 0.9257\n",
      "Epoch 17/20\n",
      "88/88 [==============================] - 3s 32ms/step - loss: 0.1209 - accuracy: 0.9654 - val_loss: 0.2701 - val_accuracy: 0.9257\n",
      "Epoch 18/20\n",
      "88/88 [==============================] - 3s 33ms/step - loss: 0.1168 - accuracy: 0.9661 - val_loss: 0.2735 - val_accuracy: 0.9257\n",
      "Epoch 19/20\n",
      "88/88 [==============================] - 3s 33ms/step - loss: 0.1030 - accuracy: 0.9700 - val_loss: 0.2710 - val_accuracy: 0.9286\n",
      "Epoch 20/20\n",
      "88/88 [==============================] - 3s 33ms/step - loss: 0.0991 - accuracy: 0.9714 - val_loss: 0.2830 - val_accuracy: 0.9271\n"
     ]
    },
    {
     "data": {
      "text/plain": [
       "<keras.callbacks.History at 0x176030f70>"
      ]
     },
     "execution_count": 24,
     "metadata": {},
     "output_type": "execute_result"
    }
   ],
   "source": [
    "model.fit(p_train, l_train, validation_data=(p_test, l_test), batch_size=32, epochs=20)"
   ]
  },
  {
   "cell_type": "code",
   "execution_count": 25,
   "id": "82e7c63a",
   "metadata": {},
   "outputs": [],
   "source": [
    "model.save('../letter_to_group.h5')"
   ]
  },
  {
   "cell_type": "code",
   "execution_count": null,
   "id": "d82b5b78",
   "metadata": {},
   "outputs": [],
   "source": []
  }
 ],
 "metadata": {
  "kernelspec": {
   "display_name": "Python 3 (ipykernel)",
   "language": "python",
   "name": "python3"
  },
  "language_info": {
   "codemirror_mode": {
    "name": "ipython",
    "version": 3
   },
   "file_extension": ".py",
   "mimetype": "text/x-python",
   "name": "python",
   "nbconvert_exporter": "python",
   "pygments_lexer": "ipython3",
   "version": "3.9.7"
  }
 },
 "nbformat": 4,
 "nbformat_minor": 5
}
