{
 "cells": [
  {
   "cell_type": "code",
   "execution_count": 1,
   "id": "3a73f274",
   "metadata": {},
   "outputs": [],
   "source": [
    "import numpy as np\n",
    "import matplotlib.pyplot as plt\n",
    "import matplotlib\n",
    "from keras import Input\n",
    "from keras.models import Sequential, Model, load_model\n",
    "from keras.layers import Dense, Dropout, Softmax, Flatten, Reshape\n",
    "from keras.layers import Conv2D, MaxPooling2D\n",
    "from keras.utils import np_utils\n",
    "from keras.datasets import mnist\n",
    "import tensorflow as tf\n",
    "import os\n",
    "import json\n",
    "import cv2\n",
    "from sklearn.model_selection import train_test_split"
   ]
  },
  {
   "cell_type": "code",
   "execution_count": 2,
   "id": "b1af801c",
   "metadata": {},
   "outputs": [],
   "source": [
    "FOLDER_NAME = '../data'\n",
    "OUTPUT_FILENAME = '../data.json'\n",
    "\n",
    "with open(OUTPUT_FILENAME, 'r') as json_file:\n",
    "    data = json.load(json_file)\n",
    "\n",
    "pictures = []\n",
    "letters = []\n",
    "unique_groups = set()\n",
    "for datum in data:\n",
    "    img = cv2.imread(\n",
    "        os.path.join(FOLDER_NAME, datum['pic']),\n",
    "        cv2.IMREAD_GRAYSCALE\n",
    "    )\n",
    "    img = img.astype('float32')\n",
    "    img /= 255\n",
    "    pictures.append(img)\n",
    "    letters.append(datum['group'])\n",
    "    unique_groups.add(datum['group'])\n",
    "pictures = np.expand_dims(np.array(pictures), axis=3)\n",
    "group_to_vec = {gr: i for i, gr in enumerate(unique_groups)}\n",
    "groups = []\n",
    "for letter in letters:\n",
    "    vec = np.zeros(len(unique_groups))\n",
    "    vec[group_to_vec[letter]] = 1\n",
    "    groups.append(vec)\n",
    "groups = np.array(groups)\n",
    "\n",
    "p_train, p_test, l_train, l_test = train_test_split(pictures, groups, test_size=0.2)"
   ]
  },
  {
   "cell_type": "code",
   "execution_count": 3,
   "id": "c3572c01",
   "metadata": {},
   "outputs": [
    {
     "name": "stdout",
     "output_type": "stream",
     "text": [
      "11\n"
     ]
    }
   ],
   "source": [
    "input_shape = (32,32,1)\n",
    "output_shape = len(unique_groups)\n",
    "pool_size = (2, 2)\n",
    "conv_filters1 = 32\n",
    "conv_filters2 = 64\n",
    "conv_kernel = 3\n",
    "print(output_shape)"
   ]
  },
  {
   "cell_type": "code",
   "execution_count": 4,
   "id": "8bacc379",
   "metadata": {},
   "outputs": [
    {
     "name": "stdout",
     "output_type": "stream",
     "text": [
      "Model: \"CnnForGroups\"\n",
      "_________________________________________________________________\n",
      "Layer (type)                 Output Shape              Param #   \n",
      "=================================================================\n",
      "conv2d (Conv2D)              (None, 32, 32, 32)        320       \n",
      "_________________________________________________________________\n",
      "max_pooling2d (MaxPooling2D) (None, 16, 16, 32)        0         \n",
      "_________________________________________________________________\n",
      "conv2d_1 (Conv2D)            (None, 16, 16, 64)        18496     \n",
      "_________________________________________________________________\n",
      "max_pooling2d_1 (MaxPooling2 (None, 8, 8, 64)          0         \n",
      "_________________________________________________________________\n",
      "flatten (Flatten)            (None, 4096)              0         \n",
      "_________________________________________________________________\n",
      "dense (Dense)                (None, 512)               2097664   \n",
      "_________________________________________________________________\n",
      "dropout (Dropout)            (None, 512)               0         \n",
      "_________________________________________________________________\n",
      "dense_1 (Dense)              (None, 11)                5643      \n",
      "=================================================================\n",
      "Total params: 2,122,123\n",
      "Trainable params: 2,122,123\n",
      "Non-trainable params: 0\n",
      "_________________________________________________________________\n"
     ]
    },
    {
     "name": "stderr",
     "output_type": "stream",
     "text": [
      "2022-01-17 02:39:07.818868: I tensorflow/core/platform/cpu_feature_guard.cc:142] This TensorFlow binary is optimized with oneAPI Deep Neural Network Library (oneDNN) to use the following CPU instructions in performance-critical operations:  AVX2 FMA\n",
      "To enable them in other operations, rebuild TensorFlow with the appropriate compiler flags.\n"
     ]
    }
   ],
   "source": [
    "model = Sequential(name='CnnForGroups')\n",
    "\n",
    "model.add(Input(shape=(32,32,1)))\n",
    "model.add(Conv2D(filters=conv_filters1, kernel_size=conv_kernel, strides=(1, 1), padding=\"same\"))\n",
    "model.add(MaxPooling2D(pool_size=pool_size))\n",
    "model.add(Conv2D(filters=conv_filters2, kernel_size=conv_kernel, strides=(1, 1), padding=\"same\"))\n",
    "model.add(MaxPooling2D(pool_size=pool_size))\n",
    "model.add(Flatten())\n",
    "model.add(Dense(512, activation='relu'))\n",
    "model.add(Dropout(0.25))\n",
    "model.add(Dense(len(unique_groups), activation='softmax'))\n",
    "\n",
    "model.summary()\n",
    "\n",
    "opt = tf.keras.optimizers.Adam(learning_rate=1e-4)\n",
    "model.compile(optimizer=opt,\n",
    "              loss='categorical_crossentropy',\n",
    "              metrics=['accuracy'])"
   ]
  },
  {
   "cell_type": "code",
   "execution_count": 5,
   "id": "6da0beb2",
   "metadata": {},
   "outputs": [
    {
     "name": "stderr",
     "output_type": "stream",
     "text": [
      "2022-01-17 02:39:08.871630: I tensorflow/compiler/mlir/mlir_graph_optimization_pass.cc:185] None of the MLIR Optimization Passes are enabled (registered 2)\n"
     ]
    },
    {
     "name": "stdout",
     "output_type": "stream",
     "text": [
      "Epoch 1/20\n",
      "88/88 [==============================] - 3s 31ms/step - loss: 0.9069 - accuracy: 0.7514 - val_loss: 0.6008 - val_accuracy: 0.8429\n",
      "Epoch 2/20\n",
      "88/88 [==============================] - 3s 32ms/step - loss: 0.4638 - accuracy: 0.8754 - val_loss: 0.4583 - val_accuracy: 0.8500\n",
      "Epoch 3/20\n",
      "88/88 [==============================] - 3s 31ms/step - loss: 0.3517 - accuracy: 0.8896 - val_loss: 0.3755 - val_accuracy: 0.8800\n",
      "Epoch 4/20\n",
      "88/88 [==============================] - 3s 34ms/step - loss: 0.3015 - accuracy: 0.9046 - val_loss: 0.3440 - val_accuracy: 0.8857\n",
      "Epoch 5/20\n",
      "88/88 [==============================] - 3s 30ms/step - loss: 0.2685 - accuracy: 0.9150 - val_loss: 0.3083 - val_accuracy: 0.8971\n",
      "Epoch 6/20\n",
      "88/88 [==============================] - 3s 30ms/step - loss: 0.2485 - accuracy: 0.9264 - val_loss: 0.2919 - val_accuracy: 0.9000\n",
      "Epoch 7/20\n",
      "88/88 [==============================] - 3s 31ms/step - loss: 0.2262 - accuracy: 0.9304 - val_loss: 0.2886 - val_accuracy: 0.9086\n",
      "Epoch 8/20\n",
      "88/88 [==============================] - 3s 31ms/step - loss: 0.2038 - accuracy: 0.9389 - val_loss: 0.2719 - val_accuracy: 0.9114\n",
      "Epoch 9/20\n",
      "88/88 [==============================] - 3s 31ms/step - loss: 0.1867 - accuracy: 0.9464 - val_loss: 0.2617 - val_accuracy: 0.9229\n",
      "Epoch 10/20\n",
      "88/88 [==============================] - 3s 31ms/step - loss: 0.1789 - accuracy: 0.9471 - val_loss: 0.2626 - val_accuracy: 0.9200\n",
      "Epoch 11/20\n",
      "88/88 [==============================] - 3s 30ms/step - loss: 0.1644 - accuracy: 0.9500 - val_loss: 0.2622 - val_accuracy: 0.9300\n",
      "Epoch 12/20\n",
      "88/88 [==============================] - 3s 31ms/step - loss: 0.1516 - accuracy: 0.9561 - val_loss: 0.2603 - val_accuracy: 0.9243\n",
      "Epoch 13/20\n",
      "88/88 [==============================] - 3s 31ms/step - loss: 0.1371 - accuracy: 0.9575 - val_loss: 0.2507 - val_accuracy: 0.9357\n",
      "Epoch 14/20\n",
      "88/88 [==============================] - 3s 31ms/step - loss: 0.1257 - accuracy: 0.9668 - val_loss: 0.2527 - val_accuracy: 0.9300\n",
      "Epoch 15/20\n",
      "88/88 [==============================] - 3s 31ms/step - loss: 0.1183 - accuracy: 0.9664 - val_loss: 0.2528 - val_accuracy: 0.9357\n",
      "Epoch 16/20\n",
      "88/88 [==============================] - 3s 31ms/step - loss: 0.1193 - accuracy: 0.9643 - val_loss: 0.2634 - val_accuracy: 0.9343\n",
      "Epoch 17/20\n",
      "88/88 [==============================] - 3s 30ms/step - loss: 0.1063 - accuracy: 0.9696 - val_loss: 0.2644 - val_accuracy: 0.9214\n",
      "Epoch 18/20\n",
      "88/88 [==============================] - 3s 31ms/step - loss: 0.1008 - accuracy: 0.9679 - val_loss: 0.2648 - val_accuracy: 0.9314\n",
      "Epoch 19/20\n",
      "88/88 [==============================] - 3s 31ms/step - loss: 0.0897 - accuracy: 0.9732 - val_loss: 0.2668 - val_accuracy: 0.9329\n",
      "Epoch 20/20\n",
      "88/88 [==============================] - 3s 31ms/step - loss: 0.0895 - accuracy: 0.9757 - val_loss: 0.2649 - val_accuracy: 0.9371\n"
     ]
    },
    {
     "data": {
      "text/plain": [
       "<keras.callbacks.History at 0x1730843a0>"
      ]
     },
     "execution_count": 5,
     "metadata": {},
     "output_type": "execute_result"
    }
   ],
   "source": [
    "model.fit(p_train, l_train, validation_data=(p_test, l_test), batch_size=32, epochs=20)"
   ]
  },
  {
   "cell_type": "code",
   "execution_count": 6,
   "id": "01d875ba",
   "metadata": {},
   "outputs": [
    {
     "name": "stderr",
     "output_type": "stream",
     "text": [
      "2022-01-17 02:40:04.415381: W tensorflow/python/util/util.cc:348] Sets are not currently considered sequences, but this may change in the future, so consider avoiding using them.\n"
     ]
    },
    {
     "name": "stdout",
     "output_type": "stream",
     "text": [
      "INFO:tensorflow:Assets written to: ../bin/letter_to_group/assets\n"
     ]
    }
   ],
   "source": [
    "model.save('../bin/letter_to_group')"
   ]
  },
  {
   "cell_type": "code",
   "execution_count": 9,
   "id": "1ad88630",
   "metadata": {},
   "outputs": [
    {
     "name": "stdout",
     "output_type": "stream",
     "text": [
      "dict_keys(['F', 'Br', 'B', 'O', 'Cl', 'N', 'T', 'S', 'P', 'C', '0'])\n"
     ]
    }
   ],
   "source": [
    "print(group_to_vec.keys())"
   ]
  },
  {
   "cell_type": "code",
   "execution_count": 8,
   "id": "3fccfd79",
   "metadata": {},
   "outputs": [
    {
     "name": "stdout",
     "output_type": "stream",
     "text": [
      "(2800, 32, 32, 1)\n"
     ]
    }
   ],
   "source": [
    "print(p_train.shape)"
   ]
  },
  {
   "cell_type": "code",
   "execution_count": null,
   "id": "846e9b9c",
   "metadata": {},
   "outputs": [],
   "source": []
  }
 ],
 "metadata": {
  "kernelspec": {
   "display_name": "Python 3 (ipykernel)",
   "language": "python",
   "name": "python3"
  },
  "language_info": {
   "codemirror_mode": {
    "name": "ipython",
    "version": 3
   },
   "file_extension": ".py",
   "mimetype": "text/x-python",
   "name": "python",
   "nbconvert_exporter": "python",
   "pygments_lexer": "ipython3",
   "version": "3.9.7"
  }
 },
 "nbformat": 4,
 "nbformat_minor": 5
}
