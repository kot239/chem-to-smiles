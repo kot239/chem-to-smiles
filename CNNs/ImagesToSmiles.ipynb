{
 "cells": [
  {
   "cell_type": "code",
   "execution_count": 1,
   "id": "d83c8ea6",
   "metadata": {},
   "outputs": [],
   "source": [
    "from rdkit import Chem\n",
    "import numpy as np\n",
    "np.random.seed(123)  # for reproducibility\n",
    "import matplotlib.pyplot as plt\n",
    "import matplotlib\n",
    "from keras import Input\n",
    "from keras.models import Sequential, Model, load_model\n",
    "from keras.layers import Dense, Dropout, Softmax, Flatten, Reshape\n",
    "from keras.layers import Conv2D, MaxPooling2D\n",
    "from keras.utils import np_utils\n",
    "from keras.datasets import mnist\n",
    "import tensorflow as tf"
   ]
  },
  {
   "cell_type": "code",
   "execution_count": 2,
   "id": "bb94bd86",
   "metadata": {},
   "outputs": [],
   "source": [
    "SMILES_CHAR = ['C', 'O', 'S', 'N', 'B', 'P', 'H', 'F', 'I', 'l', 'r',\n",
    "                '0', '1', '2', '3', '4', '5', '6', '7', '8', '9',\n",
    "               '#', '%', '(', ')', '=', '.', '/', '\\\\', '@']\n",
    "\n",
    "char_to_ind = {c : i for i, c in enumerate(SMILES_CHAR)}"
   ]
  },
  {
   "cell_type": "code",
   "execution_count": 3,
   "id": "14fc6873",
   "metadata": {},
   "outputs": [],
   "source": [
    "def smiles_to_array(smiles: str, max_len: int) -> np.array:\n",
    "    mol_array = np.zeros((max_len, len(SMILES_CHAR) + 1))\n",
    "    for i, c in enumerate(smiles):\n",
    "        mol_array[i][char_to_ind[c]] = 1\n",
    "    for i in range(len(smiles), max_len):\n",
    "        mol_array[i][len(SMILES_CHAR)] = 1\n",
    "    return mol_array\n",
    "\n",
    "def array_to_smiles(mol_array: np.array) -> str:\n",
    "    smiles = ''\n",
    "    for l in mol_array:\n",
    "        j = np.argmax(l)\n",
    "        if l[j] == 0 or j == len(SMILES_CHAR):\n",
    "            break\n",
    "        smiles += SMILES_CHAR[j]\n",
    "    return smiles"
   ]
  },
  {
   "cell_type": "code",
   "execution_count": 5,
   "id": "9f1970ef",
   "metadata": {},
   "outputs": [
    {
     "name": "stdout",
     "output_type": "stream",
     "text": [
      "FINISH DOWNLOADING JSON\n",
      "(10000, 256, 256, 1)\n",
      "(10000, 1024, 2)\n",
      "(256, 256, 1)\n"
     ]
    },
    {
     "data": {
      "image/png": "[encoded data removed]",
      "text/plain": [
       "<Figure size 368.64x368.64 with 1 Axes>"
      ]
     },
     "metadata": {
      "needs_background": "light"
     },
     "output_type": "display_data"
    }
   ],
   "source": [
    "import os\n",
    "import rapidjson\n",
    "import cv2\n",
    "from sklearn.model_selection import train_test_split\n",
    "\n",
    "def create_filename(num: int) -> str:\n",
    "    return str(num) + '.png'\n",
    "\n",
    "FOLDER_NAME = 'images'\n",
    "OUTPUT_FILENAME = 'num_of_images.json'\n",
    "\n",
    "with open(OUTPUT_FILENAME, 'r') as json_file:\n",
    "    data = rapidjson.load(json_file)\n",
    "\n",
    "print('FINISH DOWNLOADING JSON')\n",
    "\n",
    "smiles_number = 10000\n",
    "\n",
    "max_len = max([len(datum['deepsmiles']) for datum in data])\n",
    "pictures = []\n",
    "smileses = []\n",
    "cnt = 0\n",
    "for datum in data:\n",
    "    img = cv2.imread(\n",
    "        os.path.join(FOLDER_NAME, create_filename(datum['image_num'])),\n",
    "        cv2.IMREAD_GRAYSCALE\n",
    "    )\n",
    "    img = img.astype('float32')\n",
    "    img /= 255\n",
    "    pictures.append(img)\n",
    "    #smileses.append(smiles_to_array(datum['deepsmiles'], max_len))\n",
    "    smileses.append([[1, 0] if d == 0 else [0, 1] for d in datum['fingerprint']])\n",
    "    cnt += 1\n",
    "    if cnt >= smiles_number:\n",
    "        break\n",
    "pictures = np.expand_dims(np.array(pictures), axis=3)\n",
    "smileses = np.array(smileses)\n",
    "#print(f'SMILES_CHAR size = {len(SMILES_CHAR)}')\n",
    "print(pictures.shape)\n",
    "print(smileses.shape)\n",
    "print(pictures[3].shape)\n",
    "plt.figure(figsize=np.array(pictures[0].shape[:-1]) / 50)\n",
    "plt.imshow(pictures[2], cmap='Greys')\n",
    "plt.axis('off')\n",
    "plt.tight_layout()\n",
    "plt.show()\n",
    "p_train, p_test, s_train, s_test = train_test_split(pictures, smileses, test_size=0.2)"
   ]
  },
  {
   "cell_type": "code",
   "execution_count": 1,
   "id": "e1a112a2",
   "metadata": {},
   "outputs": [
    {
     "name": "stdout",
     "output_type": "stream",
     "text": [
      "(1024, 2)\n"
     ]
    }
   ],
   "source": [
    "input_shape = (256,256,1)\n",
    "output_shape = (1024, 2)\n",
    "pool_size = (2, 2)\n",
    "conv_filters1 = 126\n",
    "conv_filters2 = 20\n",
    "conv_kernel = 3\n",
    "print(output_shape)"
   ]
  },
  {
   "cell_type": "code",
   "execution_count": 2,
   "id": "448abdb9",
   "metadata": {},
   "outputs": [
    {
     "ename": "NameError",
     "evalue": "name 'Sequential' is not defined",
     "output_type": "error",
     "traceback": [
      "\u001b[0;31m---------------------------------------------------------------------------\u001b[0m",
      "\u001b[0;31mNameError\u001b[0m                                 Traceback (most recent call last)",
      "\u001b[0;32m/var/folders/l7/53csmvms01n8n0zw8tfq2v480000gn/T/ipykernel_18536/87357978.py\u001b[0m in \u001b[0;36m<module>\u001b[0;34m\u001b[0m\n\u001b[0;32m----> 1\u001b[0;31m \u001b[0mmodel\u001b[0m \u001b[0;34m=\u001b[0m \u001b[0mSequential\u001b[0m\u001b[0;34m(\u001b[0m\u001b[0mname\u001b[0m\u001b[0;34m=\u001b[0m\u001b[0;34m'CnnToSmiles'\u001b[0m\u001b[0;34m)\u001b[0m\u001b[0;34m\u001b[0m\u001b[0;34m\u001b[0m\u001b[0m\n\u001b[0m\u001b[1;32m      2\u001b[0m \u001b[0;34m\u001b[0m\u001b[0m\n\u001b[1;32m      3\u001b[0m \u001b[0mmodel\u001b[0m\u001b[0;34m.\u001b[0m\u001b[0madd\u001b[0m\u001b[0;34m(\u001b[0m\u001b[0mInput\u001b[0m\u001b[0;34m(\u001b[0m\u001b[0mshape\u001b[0m\u001b[0;34m=\u001b[0m\u001b[0;34m(\u001b[0m\u001b[0;36m256\u001b[0m\u001b[0;34m,\u001b[0m\u001b[0;36m256\u001b[0m\u001b[0;34m,\u001b[0m\u001b[0;36m1\u001b[0m\u001b[0;34m)\u001b[0m\u001b[0;34m)\u001b[0m\u001b[0;34m)\u001b[0m\u001b[0;34m\u001b[0m\u001b[0;34m\u001b[0m\u001b[0m\n\u001b[1;32m      4\u001b[0m \u001b[0mmodel\u001b[0m\u001b[0;34m.\u001b[0m\u001b[0madd\u001b[0m\u001b[0;34m(\u001b[0m\u001b[0mConv2D\u001b[0m\u001b[0;34m(\u001b[0m\u001b[0mfilters\u001b[0m\u001b[0;34m=\u001b[0m\u001b[0mconv_filters1\u001b[0m\u001b[0;34m,\u001b[0m \u001b[0mkernel_size\u001b[0m\u001b[0;34m=\u001b[0m\u001b[0mconv_kernel\u001b[0m\u001b[0;34m,\u001b[0m \u001b[0mstrides\u001b[0m\u001b[0;34m=\u001b[0m\u001b[0;34m(\u001b[0m\u001b[0;36m1\u001b[0m\u001b[0;34m,\u001b[0m \u001b[0;36m1\u001b[0m\u001b[0;34m)\u001b[0m\u001b[0;34m,\u001b[0m \u001b[0mpadding\u001b[0m\u001b[0;34m=\u001b[0m\u001b[0;34m\"same\"\u001b[0m\u001b[0;34m)\u001b[0m\u001b[0;34m)\u001b[0m\u001b[0;34m\u001b[0m\u001b[0;34m\u001b[0m\u001b[0m\n\u001b[1;32m      5\u001b[0m \u001b[0mmodel\u001b[0m\u001b[0;34m.\u001b[0m\u001b[0madd\u001b[0m\u001b[0;34m(\u001b[0m\u001b[0mMaxPooling2D\u001b[0m\u001b[0;34m(\u001b[0m\u001b[0mpool_size\u001b[0m\u001b[0;34m=\u001b[0m\u001b[0mpool_size\u001b[0m\u001b[0;34m)\u001b[0m\u001b[0;34m)\u001b[0m\u001b[0;34m\u001b[0m\u001b[0;34m\u001b[0m\u001b[0m\n",
      "\u001b[0;31mNameError\u001b[0m: name 'Sequential' is not defined"
     ]
    }
   ],
   "source": [
    "model = Sequential(name='CnnToSmiles')\n",
    "\n",
    "model.add(Input(shape=(256,256,1)))\n",
    "model.add(Conv2D(filters=conv_filters1, kernel_size=conv_kernel, strides=(1, 1), padding=\"same\"))\n",
    "model.add(MaxPooling2D(pool_size=pool_size))\n",
    "model.add(Conv2D(filters=conv_filters2, kernel_size=conv_kernel, strides=(1, 1), padding=\"same\"))\n",
    "model.add(MaxPooling2D(pool_size=pool_size))\n",
    "model.add(Flatten())\n",
    "model.add(Dense(512, activation='relu'))\n",
    "model.add(Dropout(0.2))\n",
    "model.add(Dense(len(unique_groups), activation='softmax'))\n",
    "\n",
    "model.summary()\n",
    "\n",
    "opt = tf.keras.optimizers.Adam(learning_rate=1e-4)\n",
    "model.compile(optimizer=opt,\n",
    "              loss='categorical_crossentropy',\n",
    "              metrics=['accuracy'])"
   ]
  },
  {
   "cell_type": "code",
   "execution_count": 8,
   "id": "29a084d3",
   "metadata": {},
   "outputs": [
    {
     "name": "stdout",
     "output_type": "stream",
     "text": [
      "Epoch 1/20\n",
      "250/250 [==============================] - 610s 2s/step - loss: 0.1177 - accuracy: 0.9755\n",
      "Epoch 2/20\n",
      "250/250 [==============================] - 598s 2s/step - loss: 0.0871 - accuracy: 0.9799\n",
      "Epoch 3/20\n",
      "250/250 [==============================] - 594s 2s/step - loss: 0.0810 - accuracy: 0.9807\n",
      "Epoch 4/20\n",
      "250/250 [==============================] - 593s 2s/step - loss: 0.0761 - accuracy: 0.9810\n",
      "Epoch 5/20\n",
      "250/250 [==============================] - 597s 2s/step - loss: 0.0710 - accuracy: 0.9811\n",
      "Epoch 6/20\n",
      "250/250 [==============================] - 597s 2s/step - loss: 0.0670 - accuracy: 0.9816\n",
      "Epoch 7/20\n",
      "250/250 [==============================] - 593s 2s/step - loss: 0.0639 - accuracy: 0.9820\n",
      "Epoch 8/20\n",
      "250/250 [==============================] - 590s 2s/step - loss: 0.0602 - accuracy: 0.9823\n",
      "Epoch 9/20\n",
      "250/250 [==============================] - 587s 2s/step - loss: 0.0556 - accuracy: 0.9827\n",
      "Epoch 10/20\n",
      "250/250 [==============================] - 591s 2s/step - loss: 0.0502 - accuracy: 0.9831\n",
      "Epoch 11/20\n",
      "250/250 [==============================] - 589s 2s/step - loss: 0.0444 - accuracy: 0.9835\n",
      "Epoch 12/20\n",
      "250/250 [==============================] - 589s 2s/step - loss: 0.0387 - accuracy: 0.9839\n",
      "Epoch 13/20\n",
      "250/250 [==============================] - 590s 2s/step - loss: 0.0336 - accuracy: 0.9843\n",
      "Epoch 14/20\n",
      "250/250 [==============================] - 589s 2s/step - loss: 0.0292 - accuracy: 0.9847\n",
      "Epoch 15/20\n",
      "250/250 [==============================] - 589s 2s/step - loss: 0.0257 - accuracy: 0.9851\n",
      "Epoch 16/20\n",
      "250/250 [==============================] - 586s 2s/step - loss: 0.0229 - accuracy: 0.9855\n",
      "Epoch 17/20\n",
      "250/250 [==============================] - 588s 2s/step - loss: 0.0207 - accuracy: 0.9860\n",
      "Epoch 18/20\n",
      "250/250 [==============================] - 593s 2s/step - loss: 0.0190 - accuracy: 0.9865\n",
      "Epoch 19/20\n",
      "250/250 [==============================] - 589s 2s/step - loss: 0.0175 - accuracy: 0.9870\n",
      "Epoch 20/20\n",
      "250/250 [==============================] - 589s 2s/step - loss: 0.0163 - accuracy: 0.9874\n"
     ]
    }
   ],
   "source": [
    "history = model.fit(p_train, s_train, \n",
    "          batch_size=32, epochs=20)"
   ]
  },
  {
   "cell_type": "code",
   "execution_count": null,
   "id": "3a7180c0-43bc-4c2f-8f87-276205b52115",
   "metadata": {},
   "outputs": [],
   "source": [
    "model.save('cnn2')"
   ]
  },
  {
   "cell_type": "code",
   "execution_count": 9,
   "id": "ff6cc355",
   "metadata": {},
   "outputs": [
    {
     "name": "stdout",
     "output_type": "stream",
     "text": [
      "63/63 [==============================] - 30s 461ms/step - loss: 0.0967 - accuracy: 0.9834\n"
     ]
    },
    {
     "data": {
      "text/plain": [
       "[0.09673476219177246, 0.9834428429603577]"
      ]
     },
     "execution_count": 9,
     "metadata": {},
     "output_type": "execute_result"
    }
   ],
   "source": [
    "model.evaluate(p_test, s_test)"
   ]
  },
  {
   "cell_type": "code",
   "execution_count": 11,
   "id": "cb5c5349",
   "metadata": {},
   "outputs": [
    {
     "data": {
      "image/png": "[encoded data removed]",
      "text/plain": [
       "<Figure size 368.64x368.64 with 1 Axes>"
      ]
     },
     "metadata": {
      "needs_background": "light"
     },
     "output_type": "display_data"
    },
    {
     "name": "stdout",
     "output_type": "stream",
     "text": [
      "accuracy: 0.0\n"
     ]
    },
    {
     "data": {
      "text/plain": [
       "'\\nsmiles_array = model.predict(np.array([p_test[ind]]))\\nprint(smiles_array.shape)\\nprint(array_to_smiles(smiles_array[0]))\\nans = np.array(s_test[ind])\\nprint(array_to_smiles(ans))\\n'"
      ]
     },
     "execution_count": 11,
     "metadata": {},
     "output_type": "execute_result"
    }
   ],
   "source": [
    "def convert_to_01(array):\n",
    "    res = []\n",
    "    for elem in array:\n",
    "        if elem[0] > elem[1]:\n",
    "            res.append([1, 0])\n",
    "        else:\n",
    "            res.append([0, 1])\n",
    "    return np.array(res)\n",
    "\n",
    "ind = 8\n",
    "plt.figure(figsize=np.array(p_test[ind].shape[:-1]) / 50)\n",
    "plt.imshow(p_test[ind], cmap='Greys')\n",
    "plt.axis('off')\n",
    "plt.tight_layout()\n",
    "plt.show()\n",
    "trues = 0\n",
    "\n",
    "for ind in range(1000):\n",
    "    smiles_array = model.predict(np.array([p_test[ind]]))\n",
    "    res_smiles = convert_to_01(smiles_array[0])\n",
    "    if (s_test[ind] == res_smiles).all():\n",
    "        trues += 1\n",
    "    #print(s_test[ind])\n",
    "    #print(res_smiles)\n",
    "    #print((s_test[ind] == res_smiles).all())\n",
    "print(f'accuracy: {trues / 1000}')\n",
    "\n",
    "\"\"\"\n",
    "smiles_array = model.predict(np.array([p_test[ind]]))\n",
    "print(smiles_array.shape)\n",
    "print(array_to_smiles(smiles_array[0]))\n",
    "ans = np.array(s_test[ind])\n",
    "print(array_to_smiles(ans))\n",
    "\"\"\""
   ]
  },
  {
   "cell_type": "code",
   "execution_count": null,
   "id": "4f3572c9",
   "metadata": {},
   "outputs": [],
   "source": [
    "kek_model = Model(inputs=model.input, outputs=model.layers[2].output)\n",
    "kek_model.summary()"
   ]
  },
  {
   "cell_type": "code",
   "execution_count": null,
   "id": "5a153d69",
   "metadata": {},
   "outputs": [],
   "source": [
    "p_size = 128\n",
    "output_layout = kek_model.predict(np.array([p_test[ind]]))\n",
    "print(output_layout[0, :, :, 0].reshape(p_size, p_size, -1).shape)\n",
    "plt.imshow(output_layout[0, :, :, 1].reshape(p_size, p_size, -1), cmap='Greys')\n",
    "plt.show()"
   ]
  },
  {
   "cell_type": "code",
   "execution_count": null,
   "id": "165b9301",
   "metadata": {},
   "outputs": [],
   "source": [
    "output_layout = kek_model.predict(np.array([p_test[ind]]))\n",
    "all_layout_p = np.zeros((4 * p_size, 4 * p_size))\n",
    "for i in range(4):\n",
    "    for j in range(4):\n",
    "        all_layout_p[i * p_size : (i + 1) * p_size, \n",
    "                     j * p_size : (j + 1) * p_size] = output_layout[0, :, :, 4 * i + j]\n",
    "all_layout_p.reshape(4 * p_size, 4 * p_size, -1)\n",
    "plt.imshow(all_layout_p, cmap='Greys')\n",
    "plt.show()"
   ]
  },
  {
   "cell_type": "code",
   "execution_count": null,
   "id": "3b16dca7",
   "metadata": {},
   "outputs": [],
   "source": [
    "model.save('my_model')\n"
   ]
  },
  {
   "cell_type": "code",
   "execution_count": null,
   "id": "40ab2358-06f5-483b-926a-911c6d5aec39",
   "metadata": {},
   "outputs": [],
   "source": [
    "new_model = load_model('my_model')\n",
    "\n",
    "smiles_array_new = new_model.predict(np.array([p_test[ind]]))\n",
    "print(array_to_smiles(smiles_array_new[0]))\n",
    "ans_new = np.array(s_test[ind])\n",
    "print(array_to_smiles(ans_new))"
   ]
  },
  {
   "cell_type": "code",
   "execution_count": null,
   "id": "99feac9b-3f58-485a-a2b3-1cc9296169ea",
   "metadata": {},
   "outputs": [],
   "source": []
  }
 ],
 "metadata": {
  "kernelspec": {
   "display_name": "Python 3 (ipykernel)",
   "language": "python",
   "name": "python3"
  },
  "language_info": {
   "codemirror_mode": {
    "name": "ipython",
    "version": 3
   },
   "file_extension": ".py",
   "mimetype": "text/x-python",
   "name": "python",
   "nbconvert_exporter": "python",
   "pygments_lexer": "ipython3",
   "version": "3.9.7"
  }
 },
 "nbformat": 4,
 "nbformat_minor": 5
}
