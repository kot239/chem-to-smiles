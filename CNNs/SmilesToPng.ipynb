{
 "cells": [
  {
   "cell_type": "code",
   "execution_count": 2,
   "metadata": {},
   "outputs": [],
   "source": [
    "import os\n",
    "import json\n",
    "#import deepsmiles\n",
    "\n",
    "from rdkit import Chem\n",
    "from rdkit import DataStructs\n",
    "from rdkit.Chem.Draw import IPythonConsole\n",
    "from rdkit.Chem import Draw\n",
    "from rdkit.Chem import AllChem\n",
    "from rdkit import RDLogger\n",
    "from rdkit.rdBase import DisableLog\n",
    "\n",
    "for level in RDLogger._levels:\n",
    "    DisableLog(level)\n",
    "    \n",
    "IPythonConsole.ipython_useSVG=False\n",
    "\n",
    "from typing import NoReturn"
   ]
  },
  {
   "cell_type": "code",
   "execution_count": 3,
   "metadata": {},
   "outputs": [],
   "source": [
    "def create_dir_for_images(folder_name: str) -> NoReturn:\n",
    "    if not os.path.exists(folder_name):\n",
    "        os.mkdir(folder_name)\n",
    "\n",
    "def create_filename(num: int) -> str:\n",
    "    return str(num + 1) + '.png'\n",
    "\n",
    "OK_CHARS = set(['C', 'O', 'S', 'N', 'B', 'P', 'H', 'F', 'I', 'l', 'r',\n",
    "                '0', '1', '2', '3', '4', '5', '6', '7', '8', '9',\n",
    "               '#', '%', '(', ')', '=', '.', '/', '\\\\', '@'])\n",
    "\n",
    "def check_chars(mol_str: str) -> bool:\n",
    "    for c in mol_str:\n",
    "        if not c in OK_CHARS:\n",
    "            return False\n",
    "    return True\n",
    "\n",
    "def mol_is_okay(mol, mol_str) -> bool:\n",
    "    if not mol:\n",
    "        return False\n",
    "    return check_chars(mol_str) and len(mol_str) <= 40"
   ]
  },
  {
   "cell_type": "code",
   "execution_count": 6,
   "metadata": {},
   "outputs": [
    {
     "name": "stdout",
     "output_type": "stream",
     "text": [
      "FINISH JSON DOWNLOADING\n",
      "1000\n",
      "FINISH MAKING JSON\n",
      "FINISH SAVING JSON\n"
     ]
    }
   ],
   "source": [
    "INPUT_FILENAME = 'raw_smiles.json'\n",
    "FOLDER_NAME = '../images'\n",
    "OUTPUT_FILENAME = 'num_of_images.json'\n",
    "\n",
    "# read json from file\n",
    "with open(INPUT_FILENAME, 'r') as json_file:\n",
    "    data = json.load(json_file)\n",
    "print('FINISH JSON DOWNLOADING')\n",
    "\n",
    "# create folder for images\n",
    "create_dir_for_images(FOLDER_NAME)\n",
    "\n",
    "# create converter from smiles to deepsmiles\n",
    "#converter = deepsmiles.Converter(rings=True, branches=True)\n",
    "\n",
    "all_cnt = 1000\n",
    "cnt = 0\n",
    "\n",
    "# draw images and save information about number and SMILES in json\n",
    "json_output = []\n",
    "for num, mol_datum in enumerate(data):\n",
    "    mol = Chem.MolFromSmiles(mol_datum['smiles'])\n",
    "    if cnt >= all_cnt:\n",
    "        break\n",
    "    if mol_is_okay(mol, mol_datum['smiles']):\n",
    "        canvas = Draw.rdMolDraw2D.MolDraw2DCairo(*(512, 512))\n",
    "        canvas.drawOptions().setAtomPalette({-1:(0,0,0)})\n",
    "        Draw.rdMolDraw2D.PrepareAndDrawMolecule(canvas, mol)\n",
    "        canvas.WriteDrawingText(os.path.join(FOLDER_NAME, create_filename(num)))\n",
    "        mol_json = {\n",
    "            #'deepsmiles': converter.encode(mol_datum['smiles']),\n",
    "            'smiles': mol_datum['smiles'], \n",
    "            'image_num': num + 1,\n",
    "            #'fingerprint': Chem.AllChem.GetMorganFingerprintAsBitVect(mol,2,nBits=1024).ToList()\n",
    "        }\n",
    "        json_output.append(mol_json)\n",
    "        cnt += 1\n",
    "print(cnt)\n",
    "print('FINISH MAKING JSON')\n",
    "        \n",
    "# save json to file\n",
    "with open(OUTPUT_FILENAME, 'w') as outfile:\n",
    "    json.dump(json_output, outfile, indent='\\t')\n",
    "print('FINISH SAVING JSON')"
   ]
  },
  {
   "cell_type": "code",
   "execution_count": 18,
   "metadata": {},
   "outputs": [
    {
     "name": "stdout",
     "output_type": "stream",
     "text": [
      "FINISH JSON DOWNLOADING\n"
     ]
    }
   ],
   "source": [
    "with open(INPUT_FILENAME, 'r') as json_file:\n",
    "    #data = json.load(json_file)\n",
    "    text = json_file.read().replace('}\\n\\t{', '},\\n\\t{')\n",
    "with open('tmp.json', 'w') as tmp_file:\n",
    "    tmp_file.write(text)\n",
    "with open('tmp.json', 'r') as json_file:\n",
    "    data = json.load(json_file)\n",
    "print('FINISH JSON DOWNLOADING')\n",
    "json_tmp = []\n",
    "for it in data:\n",
    "    mol_json = {\n",
    "        'smiles': it['isosmiles'],\n",
    "    }\n",
    "    json_tmp.append(mol_json)\n",
    "with open('raw_smiles.json', 'w') as outfile:\n",
    "    json.dump(json_tmp, outfile, indent='\\t')"
   ]
  },
  {
   "cell_type": "code",
   "execution_count": null,
   "metadata": {},
   "outputs": [],
   "source": []
  }
 ],
 "metadata": {
  "kernelspec": {
   "display_name": "Python 3 (ipykernel)",
   "language": "python",
   "name": "python3"
  },
  "language_info": {
   "codemirror_mode": {
    "name": "ipython",
    "version": 3
   },
   "file_extension": ".py",
   "mimetype": "text/x-python",
   "name": "python",
   "nbconvert_exporter": "python",
   "pygments_lexer": "ipython3",
   "version": "3.9.7"
  }
 },
 "nbformat": 4,
 "nbformat_minor": 4
}
