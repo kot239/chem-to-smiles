{
 "cells": [
  {
   "cell_type": "code",
   "execution_count": 1,
   "id": "d83c8ea6",
   "metadata": {},
   "outputs": [],
   "source": [
    "from rdkit import Chem\n",
    "import numpy as np\n",
    "np.random.seed(123)  # for reproducibility\n",
    "import matplotlib.pyplot as plt\n",
    "import matplotlib\n",
    "from keras.models import Sequential, Model\n",
    "from keras.layers import Dense, Dropout, Activation, Flatten, Reshape\n",
    "from keras.layers import Conv2D, MaxPooling2D\n",
    "from keras.utils import np_utils\n",
    "from keras.datasets import mnist\n",
    "import tensorflow as tf"
   ]
  },
  {
   "cell_type": "code",
   "execution_count": 2,
   "id": "bb94bd86",
   "metadata": {},
   "outputs": [],
   "source": [
    "SMILES_CHAR = ['a', 'b', 'c', 'd', 'e', 'f', 'g', 'h', 'i', 'l', 'm', 'n', 'o', 'p', 'r', 's', 't', 'u', 'y',\n",
    "               'A', 'B', 'C', 'D', 'E', 'G', 'F', 'H', 'I', 'K', 'L', 'M', 'N', 'O', 'P', \n",
    "               'R', 'S', 'T', 'U', 'V', 'W', 'X', 'Y', 'Z', '0', '1', '2', '3', '4', '5', '6', '7', '8', '9',\n",
    "               '#', '%', '(', ')', '[', ']', '-', '+', '=', '.', '/', '\\\\', '@']\n",
    "\n",
    "char_to_ind = {c : i for i, c in enumerate(SMILES_CHAR)}"
   ]
  },
  {
   "cell_type": "code",
   "execution_count": 3,
   "id": "14fc6873",
   "metadata": {},
   "outputs": [],
   "source": [
    "def smiles_to_array(smiles: str, max_len: int) -> np.array:\n",
    "    mol_array = np.zeros((max_len, len(SMILES_CHAR)))\n",
    "    for i, c in enumerate(smiles):\n",
    "        mol_array[i][char_to_ind[c]] = 1\n",
    "    return mol_array\n",
    "\n",
    "def array_to_smiles(mol_array: np.array) -> str:\n",
    "    smiles = ''\n",
    "    for l in mol_array:\n",
    "        j = np.argmax(l)\n",
    "        if l[j] == 0:\n",
    "            break\n",
    "        smiles += SMILES_CHAR[j]\n",
    "    return smiles"
   ]
  },
  {
   "cell_type": "code",
   "execution_count": 4,
   "id": "9f1970ef",
   "metadata": {},
   "outputs": [
    {
     "name": "stdout",
     "output_type": "stream",
     "text": [
      "(23310, 128, 128, 1)\n",
      "(23310, 29, 66)\n",
      "(128, 128, 1)\n"
     ]
    },
    {
     "data": {
      "image/png": "[encoded data removed]",
      "text/plain": [
       "<Figure size 184.32x184.32 with 1 Axes>"
      ]
     },
     "metadata": {
      "needs_background": "light"
     },
     "output_type": "display_data"
    }
   ],
   "source": [
    "import os\n",
    "import rapidjson\n",
    "import cv2\n",
    "from sklearn.model_selection import train_test_split\n",
    "\n",
    "def create_filename(num: int) -> str:\n",
    "    return str(num) + '.png'\n",
    "\n",
    "FOLDER_NAME = 'images'\n",
    "OUTPUT_FILENAME = 'num_of_images.json'\n",
    "\n",
    "with open(OUTPUT_FILENAME, 'r') as json_file:\n",
    "    data = rapidjson.load(json_file)\n",
    "\n",
    "max_len = max([len(datum['smiles']) for datum in data])\n",
    "pictures = []\n",
    "smileses = []\n",
    "for datum in data:\n",
    "    img = cv2.imread(\n",
    "        os.path.join(FOLDER_NAME, create_filename(datum['image_num'])),\n",
    "        cv2.IMREAD_GRAYSCALE\n",
    "    )\n",
    "    img = img.astype('float32')\n",
    "    img /= 255\n",
    "    pictures.append(img)\n",
    "    smileses.append(smiles_to_array(datum['smiles'], max_len))\n",
    "pictures = np.expand_dims(np.array(pictures), axis=3)\n",
    "smileses = np.array(smileses)\n",
    "print(pictures.shape)\n",
    "print(smileses.shape)\n",
    "print(pictures[3].shape)\n",
    "plt.figure(figsize=np.array(pictures[0].shape[:-1]) / 50)\n",
    "plt.imshow(pictures[2], cmap='Greys')\n",
    "plt.axis('off')\n",
    "plt.tight_layout()\n",
    "plt.show()\n",
    "p_train, p_test, s_train, s_test = train_test_split(pictures, smileses, test_size=0.2)"
   ]
  },
  {
   "cell_type": "code",
   "execution_count": 5,
   "id": "448abdb9",
   "metadata": {},
   "outputs": [
    {
     "name": "stderr",
     "output_type": "stream",
     "text": [
      "2021-11-07 21:31:52.777659: I tensorflow/core/platform/cpu_feature_guard.cc:142] This TensorFlow binary is optimized with oneAPI Deep Neural Network Library (oneDNN) to use the following CPU instructions in performance-critical operations:  AVX2 FMA\n",
      "To enable them in other operations, rebuild TensorFlow with the appropriate compiler flags.\n"
     ]
    },
    {
     "name": "stdout",
     "output_type": "stream",
     "text": [
      "Model: \"sequential\"\n",
      "_________________________________________________________________\n",
      "Layer (type)                 Output Shape              Param #   \n",
      "=================================================================\n",
      "flatten (Flatten)            (None, 16384)             0         \n",
      "_________________________________________________________________\n",
      "dense (Dense)                (None, 4096)              67112960  \n",
      "_________________________________________________________________\n",
      "dense_1 (Dense)              (None, 1024)              4195328   \n",
      "_________________________________________________________________\n",
      "dense_2 (Dense)              (None, 4096)              4198400   \n",
      "_________________________________________________________________\n",
      "dense_3 (Dense)              (None, 1914)              7841658   \n",
      "_________________________________________________________________\n",
      "reshape (Reshape)            (None, 29, 66)            0         \n",
      "=================================================================\n",
      "Total params: 83,348,346\n",
      "Trainable params: 83,348,346\n",
      "Non-trainable params: 0\n",
      "_________________________________________________________________\n"
     ]
    }
   ],
   "source": [
    "model = Sequential()\n",
    "\n",
    "model.add(Flatten(input_shape=(128,128,1)))\n",
    "model.add(Dense(4096, activation='relu'))\n",
    "model.add(Dense(1024, activation='relu'))\n",
    "model.add(Dense(4096, activation='relu'))\n",
    "model.add(Dense(29 * 66, activation='relu'))\n",
    "model.add(Reshape((29, 66)))\n",
    "\n",
    "model.summary()\n",
    "\n",
    "opt = tf.keras.optimizers.Adam(learning_rate=0.001)\n",
    "model.compile(optimizer=opt,\n",
    "              loss='categorical_crossentropy',\n",
    "              metrics=['accuracy'])"
   ]
  },
  {
   "cell_type": "code",
   "execution_count": 6,
   "id": "29a084d3",
   "metadata": {
    "scrolled": false
   },
   "outputs": [
    {
     "name": "stderr",
     "output_type": "stream",
     "text": [
      "2021-11-07 21:31:55.244876: I tensorflow/compiler/mlir/mlir_graph_optimization_pass.cc:185] None of the MLIR Optimization Passes are enabled (registered 2)\n"
     ]
    },
    {
     "name": "stdout",
     "output_type": "stream",
     "text": [
      "Epoch 1/10\n",
      "583/583 [==============================] - 219s 373ms/step - loss: 4.1835 - accuracy: 0.2786\n",
      "Epoch 2/10\n",
      "583/583 [==============================] - 212s 364ms/step - loss: 3.8834 - accuracy: 0.2873\n",
      "Epoch 3/10\n",
      "583/583 [==============================] - 603s 1s/step - loss: 3.8821 - accuracy: 0.2873\n",
      "Epoch 4/10\n",
      "583/583 [==============================] - 217s 372ms/step - loss: 3.8835 - accuracy: 0.2873\n",
      "Epoch 5/10\n",
      "583/583 [==============================] - 213s 366ms/step - loss: 3.8540 - accuracy: 0.2873\n",
      "Epoch 6/10\n",
      "583/583 [==============================] - 214s 367ms/step - loss: 3.8457 - accuracy: 0.2873\n",
      "Epoch 7/10\n",
      "583/583 [==============================] - 217s 372ms/step - loss: 3.8454 - accuracy: 0.2873\n",
      "Epoch 8/10\n",
      "583/583 [==============================] - 211s 363ms/step - loss: 3.8454 - accuracy: 0.2873\n",
      "Epoch 9/10\n",
      "583/583 [==============================] - 211s 362ms/step - loss: 3.8453 - accuracy: 0.2873\n",
      "Epoch 10/10\n",
      "583/583 [==============================] - 223s 382ms/step - loss: 3.8451 - accuracy: 0.2873\n"
     ]
    },
    {
     "data": {
      "text/plain": [
       "<keras.callbacks.History at 0x263c9e4f0>"
      ]
     },
     "execution_count": 6,
     "metadata": {},
     "output_type": "execute_result"
    }
   ],
   "source": [
    "model.fit(p_train, s_train, \n",
    "          batch_size=32, epochs=10)"
   ]
  },
  {
   "cell_type": "code",
   "execution_count": 7,
   "id": "ff6cc355",
   "metadata": {},
   "outputs": [
    {
     "name": "stdout",
     "output_type": "stream",
     "text": [
      "146/146 [==============================] - 10s 63ms/step - loss: 3.8705 - accuracy: 0.2868\n"
     ]
    },
    {
     "data": {
      "text/plain": [
       "[3.8705105781555176, 0.28679418563842773]"
      ]
     },
     "execution_count": 7,
     "metadata": {},
     "output_type": "execute_result"
    }
   ],
   "source": [
    "model.evaluate(p_test, s_test)"
   ]
  },
  {
   "cell_type": "code",
   "execution_count": 9,
   "id": "cb5c5349",
   "metadata": {},
   "outputs": [
    {
     "data": {
      "image/png": "[encoded data removed]",
      "text/plain": [
       "<Figure size 184.32x184.32 with 1 Axes>"
      ]
     },
     "metadata": {
      "needs_background": "light"
     },
     "output_type": "display_data"
    },
    {
     "name": "stdout",
     "output_type": "stream",
     "text": [
      "CCCCCCCCCCC=CCCCCCCCCCCC)CCCl\n",
      "CCCCCC(=O)OCC/C=C\\CC\n"
     ]
    }
   ],
   "source": [
    "ind = 70\n",
    "plt.figure(figsize=np.array(p_test[ind].shape[:-1]) / 50)\n",
    "plt.imshow(p_test[ind], cmap='Greys')\n",
    "plt.axis('off')\n",
    "plt.tight_layout()\n",
    "plt.show()\n",
    "smiles_array = model.predict(np.array([p_test[ind]]))\n",
    "smiles_array = smiles_array.reshape(29, 66)\n",
    "print(array_to_smiles(smiles_array))\n",
    "ans = np.array(s_test[ind]).reshape(29, 66)\n",
    "print(array_to_smiles(ans))"
   ]
  },
  {
   "cell_type": "code",
   "execution_count": null,
   "id": "4f3572c9",
   "metadata": {},
   "outputs": [],
   "source": [
    "kek_model = Model(inputs=model.input, outputs=model.layers[3].output)\n",
    "kek_model.summary()"
   ]
  },
  {
   "cell_type": "code",
   "execution_count": null,
   "id": "5a153d69",
   "metadata": {},
   "outputs": [],
   "source": [
    "p_size = 32\n",
    "output_layout = kek_model.predict(np.array([p_test[ind]]))\n",
    "print(output_layout[0, :, :, 0].reshape(p_size, p_size, -1).shape)\n",
    "plt.imshow(output_layout[0, :, :, 1].reshape(p_size, p_size, -1), cmap='Greys')\n",
    "plt.show()"
   ]
  },
  {
   "cell_type": "code",
   "execution_count": null,
   "id": "165b9301",
   "metadata": {},
   "outputs": [],
   "source": [
    "output_layout = kek_model.predict(np.array([p_test[ind]]))\n",
    "all_layout_p = np.zeros((2 * p_size, 2 * p_size))\n",
    "for i in range(2):\n",
    "    for j in range(2):\n",
    "        all_layout_p[i * p_size : (i + 1) * p_size, \n",
    "                     j * p_size : (j + 1) * p_size] = output_layout[0, :, :, 2 * i + j]\n",
    "all_layout_p.reshape(2 * p_size, 2 * p_size, -1)\n",
    "plt.imshow(all_layout_p, cmap='Greys')\n",
    "plt.show()"
   ]
  },
  {
   "cell_type": "code",
   "execution_count": null,
   "id": "3b16dca7",
   "metadata": {},
   "outputs": [],
   "source": []
  }
 ],
 "metadata": {
  "kernelspec": {
   "display_name": "Python 3 (ipykernel)",
   "language": "python",
   "name": "python3"
  },
  "language_info": {
   "codemirror_mode": {
    "name": "ipython",
    "version": 3
   },
   "file_extension": ".py",
   "mimetype": "text/x-python",
   "name": "python",
   "nbconvert_exporter": "python",
   "pygments_lexer": "ipython3",
   "version": "3.9.7"
  }
 },
 "nbformat": 4,
 "nbformat_minor": 5
}
