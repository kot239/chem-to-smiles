{
 "cells": [
  {
   "cell_type": "code",
   "execution_count": 1,
   "id": "d83c8ea6",
   "metadata": {},
   "outputs": [],
   "source": [
    "from rdkit import Chem\n",
    "import numpy as np\n",
    "np.random.seed(123)  # for reproducibility\n",
    "import matplotlib.pyplot as plt\n",
    "import matplotlib\n",
    "from keras.models import Sequential, Model\n",
    "from keras.layers import Dense, Dropout, Activation, Flatten, Reshape\n",
    "from keras.layers import Conv2D, MaxPooling2D\n",
    "from keras.utils import np_utils\n",
    "from keras.datasets import mnist\n",
    "import tensorflow as tf"
   ]
  },
  {
   "cell_type": "code",
   "execution_count": 2,
   "id": "bb94bd86",
   "metadata": {},
   "outputs": [],
   "source": [
    "SMILES_CHAR = ['a', 'b', 'c', 'd', 'e', 'f', 'g', 'h', 'i', 'l', 'm', 'n', 'o', 'p', 'r', 's', 't', 'u', 'y',\n",
    "               'A', 'B', 'C', 'D', 'E', 'G', 'F', 'H', 'I', 'K', 'L', 'M', 'N', 'O', 'P', \n",
    "               'R', 'S', 'T', 'U', 'V', 'W', 'X', 'Y', 'Z', '0', '1', '2', '3', '4', '5', '6', '7', '8', '9',\n",
    "               '#', '%', '(', ')', '[', ']', '-', '+', '=', '.', '/', '\\\\', '@']\n",
    "\n",
    "char_to_ind = {c : i for i, c in enumerate(SMILES_CHAR)}"
   ]
  },
  {
   "cell_type": "code",
   "execution_count": 3,
   "id": "14fc6873",
   "metadata": {},
   "outputs": [],
   "source": [
    "def smiles_to_array(smiles: str, max_len: int) -> np.array:\n",
    "    mol_array = np.zeros((max_len, len(SMILES_CHAR) + 1))\n",
    "    for i, c in enumerate(smiles):\n",
    "        mol_array[i][char_to_ind[c]] = 1\n",
    "    for i in range(len(smiles), max_len):\n",
    "        mol_array[i][len(SMILES_CHAR)] = 1\n",
    "    return mol_array\n",
    "\n",
    "def array_to_smiles(mol_array: np.array) -> str:\n",
    "    smiles = ''\n",
    "    for l in mol_array:\n",
    "        j = np.argmax(l)\n",
    "        if l[j] == 0 or j == len(SMILES_CHAR):\n",
    "            break\n",
    "        smiles += SMILES_CHAR[j]\n",
    "    return smiles"
   ]
  },
  {
   "cell_type": "code",
   "execution_count": 4,
   "id": "9f1970ef",
   "metadata": {},
   "outputs": [
    {
     "name": "stdout",
     "output_type": "stream",
     "text": [
      "SMILES_CHAR size = 66\n",
      "(11433, 128, 128, 1)\n",
      "(11433, 44, 67)\n",
      "(128, 128, 1)\n"
     ]
    },
    {
     "data": {
      "image/png": "[encoded data removed]",
      "text/plain": [
       "<Figure size 184.32x184.32 with 1 Axes>"
      ]
     },
     "metadata": {
      "needs_background": "light"
     },
     "output_type": "display_data"
    }
   ],
   "source": [
    "import os\n",
    "import rapidjson\n",
    "import cv2\n",
    "from sklearn.model_selection import train_test_split\n",
    "\n",
    "def create_filename(num: int) -> str:\n",
    "    return str(num) + '.png'\n",
    "\n",
    "FOLDER_NAME = 'images'\n",
    "OUTPUT_FILENAME = 'num_of_images.json'\n",
    "\n",
    "with open(OUTPUT_FILENAME, 'r') as json_file:\n",
    "    data = rapidjson.load(json_file)\n",
    "\n",
    "max_len = max([len(datum['deepsmiles']) for datum in data])\n",
    "pictures = []\n",
    "smileses = []\n",
    "for datum in data:\n",
    "    img = cv2.imread(\n",
    "        os.path.join(FOLDER_NAME, create_filename(datum['image_num'])),\n",
    "        cv2.IMREAD_GRAYSCALE\n",
    "    )\n",
    "    img = img.astype('float32')\n",
    "    img /= 255\n",
    "    pictures.append(img)\n",
    "    smileses.append(smiles_to_array(datum['deepsmiles'], max_len))\n",
    "pictures = np.expand_dims(np.array(pictures), axis=3)\n",
    "smileses = np.array(smileses)\n",
    "print(f'SMILES_CHAR size = {len(SMILES_CHAR)}')\n",
    "print(pictures.shape)\n",
    "print(smileses.shape)\n",
    "print(pictures[3].shape)\n",
    "plt.figure(figsize=np.array(pictures[0].shape[:-1]) / 50)\n",
    "plt.imshow(pictures[2], cmap='Greys')\n",
    "plt.axis('off')\n",
    "plt.tight_layout()\n",
    "plt.show()\n",
    "p_train, p_test, s_train, s_test = train_test_split(pictures, smileses, test_size=0.2)"
   ]
  },
  {
   "cell_type": "code",
   "execution_count": 6,
   "id": "448abdb9",
   "metadata": {},
   "outputs": [
    {
     "name": "stdout",
     "output_type": "stream",
     "text": [
      "Model: \"sequential_1\"\n",
      "_________________________________________________________________\n",
      " Layer (type)                Output Shape              Param #   \n",
      "=================================================================\n",
      " flatten_1 (Flatten)         (None, 16384)             0         \n",
      "                                                                 \n",
      " dense_4 (Dense)             (None, 16384)             268451840 \n",
      "                                                                 \n",
      " dense_5 (Dense)             (None, 8192)              134225920 \n",
      "                                                                 \n",
      " dense_6 (Dense)             (None, 2948)              24152964  \n",
      "                                                                 \n",
      " reshape_1 (Reshape)         (None, 44, 67)            0         \n",
      "                                                                 \n",
      " dense_7 (Dense)             (None, 44, 67)            4556      \n",
      "                                                                 \n",
      "=================================================================\n",
      "Total params: 426,835,280\n",
      "Trainable params: 426,835,280\n",
      "Non-trainable params: 0\n",
      "_________________________________________________________________\n"
     ]
    }
   ],
   "source": [
    "model = Sequential()\n",
    "\n",
    "model.add(Flatten(input_shape=(128,128,1)))\n",
    "model.add(Dense(16384, activation='relu'))\n",
    "model.add(Dense(8192, activation='relu'))\n",
    "model.add(Dense(44 * 67, activation='relu'))\n",
    "model.add(Reshape((44, 67)))\n",
    "model.add(Dense(67, activation=tf.keras.activations.softmax))\n",
    "\n",
    "model.summary()\n",
    "\n",
    "opt = tf.keras.optimizers.Adam(learning_rate=1e-4)\n",
    "model.compile(optimizer=opt,\n",
    "              loss='categorical_crossentropy',\n",
    "              metrics=['accuracy'])"
   ]
  },
  {
   "cell_type": "code",
   "execution_count": 7,
   "id": "29a084d3",
   "metadata": {},
   "outputs": [
    {
     "name": "stdout",
     "output_type": "stream",
     "text": [
      "Epoch 1/20\n",
      "286/286 [==============================] - 406s 1s/step - loss: 1.3500 - accuracy: 0.6626\n",
      "Epoch 2/20\n",
      "286/286 [==============================] - 407s 1s/step - loss: 1.2039 - accuracy: 0.6710\n",
      "Epoch 3/20\n",
      "286/286 [==============================] - 400s 1s/step - loss: 1.1710 - accuracy: 0.6728\n",
      "Epoch 4/20\n",
      "286/286 [==============================] - 408s 1s/step - loss: 1.1525 - accuracy: 0.6743\n",
      "Epoch 5/20\n",
      "286/286 [==============================] - 407s 1s/step - loss: 1.1368 - accuracy: 0.6769\n",
      "Epoch 6/20\n",
      "286/286 [==============================] - 397s 1s/step - loss: 1.1253 - accuracy: 0.6789\n",
      "Epoch 7/20\n",
      "286/286 [==============================] - 406s 1s/step - loss: 1.1026 - accuracy: 0.6848\n",
      "Epoch 8/20\n",
      "286/286 [==============================] - 424s 1s/step - loss: 1.0900 - accuracy: 0.6874\n",
      "Epoch 9/20\n",
      "286/286 [==============================] - 412s 1s/step - loss: 1.0827 - accuracy: 0.6886\n",
      "Epoch 10/20\n",
      "286/286 [==============================] - 396s 1s/step - loss: 1.0789 - accuracy: 0.6900\n",
      "Epoch 11/20\n",
      "286/286 [==============================] - 416s 1s/step - loss: 1.0652 - accuracy: 0.6933\n",
      "Epoch 12/20\n",
      "286/286 [==============================] - 395s 1s/step - loss: 1.0645 - accuracy: 0.6928\n",
      "Epoch 13/20\n",
      "286/286 [==============================] - 428s 1s/step - loss: 1.0597 - accuracy: 0.6948\n",
      "Epoch 14/20\n",
      "286/286 [==============================] - 465s 2s/step - loss: 1.0501 - accuracy: 0.6976\n",
      "Epoch 15/20\n",
      "286/286 [==============================] - 438s 2s/step - loss: 1.0511 - accuracy: 0.6964\n",
      "Epoch 16/20\n",
      "286/286 [==============================] - 681s 2s/step - loss: 1.0391 - accuracy: 0.6999\n",
      "Epoch 17/20\n",
      "286/286 [==============================] - 408s 1s/step - loss: 1.0387 - accuracy: 0.7008\n",
      "Epoch 18/20\n",
      "286/286 [==============================] - 417s 1s/step - loss: 1.0329 - accuracy: 0.7019\n",
      "Epoch 19/20\n",
      "286/286 [==============================] - 408s 1s/step - loss: 1.0231 - accuracy: 0.7045\n",
      "Epoch 20/20\n",
      "286/286 [==============================] - 407s 1s/step - loss: 1.0173 - accuracy: 0.7060\n"
     ]
    },
    {
     "data": {
      "text/plain": [
       "<keras.callbacks.History at 0x1e3510910>"
      ]
     },
     "execution_count": 7,
     "metadata": {},
     "output_type": "execute_result"
    }
   ],
   "source": [
    "model.fit(p_train, s_train, \n",
    "          batch_size=32, epochs=20)"
   ]
  },
  {
   "cell_type": "code",
   "execution_count": 8,
   "id": "ff6cc355",
   "metadata": {},
   "outputs": [
    {
     "name": "stdout",
     "output_type": "stream",
     "text": [
      "72/72 [==============================] - 14s 124ms/step - loss: 1.0346 - accuracy: 0.7028\n"
     ]
    },
    {
     "data": {
      "text/plain": [
       "[1.03463613986969, 0.7028362154960632]"
      ]
     },
     "execution_count": 8,
     "metadata": {},
     "output_type": "execute_result"
    }
   ],
   "source": [
    "model.evaluate(p_test, s_test)"
   ]
  },
  {
   "cell_type": "code",
   "execution_count": 30,
   "id": "cb5c5349",
   "metadata": {},
   "outputs": [
    {
     "data": {
      "image/png": "[encoded data removed]",
      "text/plain": [
       "<Figure size 184.32x184.32 with 1 Axes>"
      ]
     },
     "metadata": {
      "needs_background": "light"
     },
     "output_type": "display_data"
    },
    {
     "name": "stdout",
     "output_type": "stream",
     "text": [
      "CCCCCCCCCCCC)))\n",
      "N=O)[O-].[Na+]\n"
     ]
    }
   ],
   "source": [
    "ind = 4\n",
    "plt.figure(figsize=np.array(p_test[ind].shape[:-1]) / 50)\n",
    "plt.imshow(p_test[ind], cmap='Greys')\n",
    "plt.axis('off')\n",
    "plt.tight_layout()\n",
    "plt.show()\n",
    "smiles_array = model.predict(np.array([p_test[ind]]))\n",
    "print(array_to_smiles(smiles_array[0]))\n",
    "ans = np.array(s_test[ind])\n",
    "print(array_to_smiles(ans))"
   ]
  },
  {
   "cell_type": "code",
   "execution_count": null,
   "id": "4f3572c9",
   "metadata": {},
   "outputs": [],
   "source": [
    "kek_model = Model(inputs=model.input, outputs=model.layers[3].output)\n",
    "kek_model.summary()"
   ]
  },
  {
   "cell_type": "code",
   "execution_count": null,
   "id": "5a153d69",
   "metadata": {},
   "outputs": [],
   "source": [
    "p_size = 32\n",
    "output_layout = kek_model.predict(np.array([p_test[ind]]))\n",
    "print(output_layout[0, :, :, 0].reshape(p_size, p_size, -1).shape)\n",
    "plt.imshow(output_layout[0, :, :, 1].reshape(p_size, p_size, -1), cmap='Greys')\n",
    "plt.show()"
   ]
  },
  {
   "cell_type": "code",
   "execution_count": null,
   "id": "165b9301",
   "metadata": {},
   "outputs": [],
   "source": [
    "output_layout = kek_model.predict(np.array([p_test[ind]]))\n",
    "all_layout_p = np.zeros((2 * p_size, 2 * p_size))\n",
    "for i in range(2):\n",
    "    for j in range(2):\n",
    "        all_layout_p[i * p_size : (i + 1) * p_size, \n",
    "                     j * p_size : (j + 1) * p_size] = output_layout[0, :, :, 2 * i + j]\n",
    "all_layout_p.reshape(2 * p_size, 2 * p_size, -1)\n",
    "plt.imshow(all_layout_p, cmap='Greys')\n",
    "plt.show()"
   ]
  },
  {
   "cell_type": "code",
   "execution_count": null,
   "id": "3b16dca7",
   "metadata": {},
   "outputs": [],
   "source": [
    "mem = Sequential()\n"
   ]
  }
 ],
 "metadata": {
  "kernelspec": {
   "display_name": "Python 3 (ipykernel)",
   "language": "python",
   "name": "python3"
  },
  "language_info": {
   "codemirror_mode": {
    "name": "ipython",
    "version": 3
   },
   "file_extension": ".py",
   "mimetype": "text/x-python",
   "name": "python",
   "nbconvert_exporter": "python",
   "pygments_lexer": "ipython3",
   "version": "3.9.7"
  }
 },
 "nbformat": 4,
 "nbformat_minor": 5
}
