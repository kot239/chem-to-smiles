{
 "cells": [
  {
   "cell_type": "code",
   "execution_count": 4,
   "id": "d83c8ea6",
   "metadata": {},
   "outputs": [],
   "source": [
    "from rdkit import Chem\n",
    "import numpy as np"
   ]
  },
  {
   "cell_type": "code",
   "execution_count": 5,
   "id": "bb94bd86",
   "metadata": {},
   "outputs": [],
   "source": [
    "SMILES_CHAR = ['a', 'b', 'c', 'd', 'e', 'f', 'g', 'h', 'i', 'l', 'n', 'o', 'p', 'r', 's', 't', 'u',\n",
    "               'A', 'B', 'C', 'G', 'F', 'H', 'I', 'K', 'L', 'M', 'N', 'O', 'P', \n",
    "               'R', 'S', 'T', 'U', 'V', 'W', 'X', 'Y', 'Z', '0', '1', '2', '3', '4', '5', '6', '7', '8', '9',\n",
    "               '#', '%', '(', ')', '[', ']', '-', '+', '=', '.', '/', '\\\\', '@']\n",
    "\n",
    "char_to_ind = {c : i for i, c in enumerate(SMILES_CHAR)}"
   ]
  },
  {
   "cell_type": "code",
   "execution_count": 6,
   "id": "14fc6873",
   "metadata": {},
   "outputs": [],
   "source": [
    "def smiles_to_array(smiles: str, max_len: int) -> np.array:\n",
    "    mol_array = np.zeros((max_len, len(SMILES_CHAR)))\n",
    "    for i, c in enumerate(smiles):\n",
    "        mol_array[i][char_to_ind[c]] = 1\n",
    "    return mol_array\n",
    "\n",
    "def array_to_smiles(mol_array: np.array) -> str:\n",
    "    smiles = ''\n",
    "    for l in mol_array:\n",
    "        j = np.argmax(l)\n",
    "        if l[j] == 0:\n",
    "            break\n",
    "        smiles += SMILES_CHAR[j]\n",
    "    return smiles"
   ]
  },
  {
   "cell_type": "code",
   "execution_count": null,
   "id": "23421765",
   "metadata": {},
   "outputs": [],
   "source": [
    "smiles = 'CCN(CC)C(=O)C1=CC=CC(=C1)C'\n",
    "ar = smiles_to_array(smiles, 100)\n",
    "array_to_smiles(ar)"
   ]
  },
  {
   "cell_type": "code",
   "execution_count": 11,
   "id": "797a9df1",
   "metadata": {},
   "outputs": [
    {
     "name": "stdout",
     "output_type": "stream",
     "text": [
      "(2815, 128, 128, 1)\n",
      "(2815, 1798)\n"
     ]
    }
   ],
   "source": [
    "import os\n",
    "import rapidjson\n",
    "import cv2\n",
    "from sklearn.model_selection import train_test_split\n",
    "\n",
    "def create_filename(num: int) -> str:\n",
    "    return str(num) + '.png'\n",
    "\n",
    "FOLDER_NAME = 'images'\n",
    "OUTPUT_FILENAME = 'num_of_images.json'\n",
    "\n",
    "with open(OUTPUT_FILENAME, 'r') as json_file:\n",
    "    data = rapidjson.load(json_file)\n",
    "\n",
    "max_len = max([len(datum['smiles']) for datum in data])\n",
    "pictures = []\n",
    "smileses = []\n",
    "for datum in data:\n",
    "    img = cv2.imread(\n",
    "        os.path.join(FOLDER_NAME, create_filename(datum['image_num'])),\n",
    "        cv2.IMREAD_GRAYSCALE\n",
    "    )\n",
    "    img = img.astype('float32')\n",
    "    img /= 255\n",
    "    pictures.append(img)\n",
    "    smileses.append(np.concatenate(smiles_to_array(datum['smiles'], max_len)))\n",
    "pictures = np.expand_dims(np.array(pictures), axis=3)\n",
    "smileses = np.array(smileses)\n",
    "print(pictures.shape)\n",
    "print(smileses.shape)\n",
    "p_train, p_test, s_train, s_test = train_test_split(pictures, smileses, test_size=0.2)"
   ]
  },
  {
   "cell_type": "code",
   "execution_count": 12,
   "id": "448abdb9",
   "metadata": {},
   "outputs": [
    {
     "name": "stdout",
     "output_type": "stream",
     "text": [
      "Model: \"sequential_4\"\n",
      "_________________________________________________________________\n",
      "Layer (type)                 Output Shape              Param #   \n",
      "=================================================================\n",
      "conv2d_7 (Conv2D)            (None, 128, 128, 16)      80        \n",
      "_________________________________________________________________\n",
      "max_pooling2d_6 (MaxPooling2 (None, 64, 64, 16)        0         \n",
      "_________________________________________________________________\n",
      "conv2d_8 (Conv2D)            (None, 64, 64, 32)        2080      \n",
      "_________________________________________________________________\n",
      "max_pooling2d_7 (MaxPooling2 (None, 32, 32, 32)        0         \n",
      "_________________________________________________________________\n",
      "conv2d_9 (Conv2D)            (None, 32, 32, 64)        8256      \n",
      "_________________________________________________________________\n",
      "max_pooling2d_8 (MaxPooling2 (None, 16, 16, 64)        0         \n",
      "_________________________________________________________________\n",
      "flatten_2 (Flatten)          (None, 16384)             0         \n",
      "_________________________________________________________________\n",
      "dense_3 (Dense)              (None, 1798)              29460230  \n",
      "=================================================================\n",
      "Total params: 29,470,646\n",
      "Trainable params: 29,470,646\n",
      "Non-trainable params: 0\n",
      "_________________________________________________________________\n"
     ]
    }
   ],
   "source": [
    "import numpy as np\n",
    "np.random.seed(123)  # for reproducibility\n",
    "from keras.models import Sequential\n",
    "from keras.layers import Dense, Dropout, Activation, Flatten\n",
    "from keras.layers import Conv2D, MaxPooling2D\n",
    "from keras.utils import np_utils\n",
    "from keras.datasets import mnist\n",
    "import tensorflow as tf\n",
    "from matplotlib import pyplot as plt\n",
    "\n",
    "\"\"\"\n",
    "(X_train, y_train), (X_test, y_test) = mnist.load_data()\n",
    "plt.imshow(X_train[239], cmap='gray')\n",
    "X_train = X_train.astype('float32')\n",
    "X_test = X_test.astype('float32')\n",
    "X_train /= 255\n",
    "X_test /= 255\n",
    "X_train = X_train.astype('float32')\n",
    "X_test = X_test.astype('float32')\n",
    "Y_train = np_utils.to_categorical(y_train, 10)\n",
    "Y_test = np_utils.to_categorical(y_test, 10)\n",
    "X_train = np.array([np.concatenate(x) for x in X_train])\n",
    "X_test = np.array([np.concatenate(x) for x in X_test])\n",
    "\"\"\"\n",
    "\n",
    "model = Sequential()\n",
    "\n",
    "#model.add(Dense(input_shape=(128 ** 2,), units=128, activation='relu'))\n",
    "#model.add(Conv2D(4096, kernel_size=3, activation='relu'))\n",
    "#model.add(Flatten())\n",
    "#model.add(Dense(1798, activation='relu'))\n",
    "model.add(Conv2D(filters=16,kernel_size=2,padding=\"same\",activation=\"relu\",input_shape=(128,128,1)))\n",
    "model.add(MaxPooling2D(pool_size=2))\n",
    "model.add(Conv2D(filters=32,kernel_size=2,padding=\"same\",activation =\"relu\"))\n",
    "model.add(MaxPooling2D(pool_size=2))\n",
    "model.add(Conv2D(filters=64,kernel_size=2,padding=\"same\",activation=\"relu\"))\n",
    "model.add(MaxPooling2D(pool_size=2))\n",
    "model.add(Flatten())\n",
    "model.add(Dense(1798,activation=\"relu\"))\n",
    "\n",
    "model.summary()\n",
    "\n",
    "model.compile(optimizer='sgd',\n",
    "              loss='categorical_crossentropy',\n",
    "              metrics=['accuracy'])"
   ]
  },
  {
   "cell_type": "code",
   "execution_count": 13,
   "id": "c981a898",
   "metadata": {
    "scrolled": false
   },
   "outputs": [
    {
     "name": "stdout",
     "output_type": "stream",
     "text": [
      "Epoch 1/20\n",
      "71/71 [==============================] - 21s 281ms/step - loss: 140.7182 - accuracy: 0.0000e+00\n",
      "Epoch 2/20\n",
      "71/71 [==============================] - 20s 283ms/step - loss: 130.7624 - accuracy: 0.0417\n",
      "Epoch 3/20\n",
      "71/71 [==============================] - 21s 294ms/step - loss: 118.1093 - accuracy: 0.8490\n",
      "Epoch 4/20\n",
      "71/71 [==============================] - 20s 286ms/step - loss: 117.3926 - accuracy: 0.4578\n",
      "Epoch 5/20\n",
      "71/71 [==============================] - 20s 287ms/step - loss: 111.6104 - accuracy: 0.0000e+00\n",
      "Epoch 6/20\n",
      "71/71 [==============================] - 21s 289ms/step - loss: 110.1649 - accuracy: 0.0000e+00\n",
      "Epoch 7/20\n",
      "71/71 [==============================] - 21s 294ms/step - loss: 106.5800 - accuracy: 0.0000e+00\n",
      "Epoch 8/20\n",
      "71/71 [==============================] - 21s 290ms/step - loss: 104.7506 - accuracy: 0.0675\n",
      "Epoch 9/20\n",
      "71/71 [==============================] - 20s 284ms/step - loss: 104.3889 - accuracy: 0.0728\n",
      "Epoch 10/20\n",
      "71/71 [==============================] - 21s 291ms/step - loss: 102.8747 - accuracy: 0.0000e+00\n",
      "Epoch 11/20\n",
      "71/71 [==============================] - 20s 287ms/step - loss: 102.2007 - accuracy: 0.0000e+00\n",
      "Epoch 12/20\n",
      "71/71 [==============================] - 21s 291ms/step - loss: 104.4930 - accuracy: 0.0000e+00\n",
      "Epoch 13/20\n",
      "71/71 [==============================] - 20s 282ms/step - loss: 102.7893 - accuracy: 0.0000e+00\n",
      "Epoch 14/20\n",
      "71/71 [==============================] - 21s 289ms/step - loss: 101.6488 - accuracy: 0.0000e+00\n",
      "Epoch 15/20\n",
      "71/71 [==============================] - 21s 293ms/step - loss: 100.7157 - accuracy: 0.0000e+00\n",
      "Epoch 16/20\n",
      "71/71 [==============================] - 20s 288ms/step - loss: 99.8234 - accuracy: 0.0000e+00\n",
      "Epoch 17/20\n",
      "71/71 [==============================] - 21s 290ms/step - loss: 99.0846 - accuracy: 0.0000e+00\n",
      "Epoch 18/20\n",
      "71/71 [==============================] - 21s 299ms/step - loss: 99.1619 - accuracy: 0.0000e+00\n",
      "Epoch 19/20\n",
      "71/71 [==============================] - 21s 302ms/step - loss: 98.7846 - accuracy: 0.0000e+00\n",
      "Epoch 20/20\n",
      "71/71 [==============================] - 21s 299ms/step - loss: 98.6123 - accuracy: 0.0000e+00\n"
     ]
    },
    {
     "data": {
      "text/plain": [
       "<keras.callbacks.History at 0x1ad9c0580>"
      ]
     },
     "execution_count": 13,
     "metadata": {},
     "output_type": "execute_result"
    }
   ],
   "source": [
    "model.fit(p_train, s_train, \n",
    "          batch_size=32, epochs=20)"
   ]
  },
  {
   "cell_type": "code",
   "execution_count": null,
   "id": "e00e8e20",
   "metadata": {},
   "outputs": [],
   "source": [
    "model.evaluate(X_test, Y_test)"
   ]
  },
  {
   "cell_type": "code",
   "execution_count": null,
   "id": "2ce03922",
   "metadata": {},
   "outputs": [],
   "source": []
  }
 ],
 "metadata": {
  "kernelspec": {
   "display_name": "Python 3 (ipykernel)",
   "language": "python",
   "name": "python3"
  },
  "language_info": {
   "codemirror_mode": {
    "name": "ipython",
    "version": 3
   },
   "file_extension": ".py",
   "mimetype": "text/x-python",
   "name": "python",
   "nbconvert_exporter": "python",
   "pygments_lexer": "ipython3",
   "version": "3.9.7"
  }
 },
 "nbformat": 4,
 "nbformat_minor": 5
}
