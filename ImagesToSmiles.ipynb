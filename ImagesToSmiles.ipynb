{
 "cells": [
  {
   "cell_type": "code",
   "execution_count": 3,
   "id": "d83c8ea6",
   "metadata": {},
   "outputs": [],
   "source": [
    "from rdkit import Chem\n",
    "import numpy as np"
   ]
  },
  {
   "cell_type": "code",
   "execution_count": 4,
   "id": "bb94bd86",
   "metadata": {},
   "outputs": [],
   "source": [
    "SMILES_CHAR = ['a', 'b', 'c', 'e', 'g', 'i', 'l', 'n', 'o', 'p', 'r', 's', 't', 'u',\n",
    "               'A', 'B', 'C', 'F', 'H', 'I', 'K', 'L', 'M', 'N', 'O', 'P', \n",
    "               'R', 'S', 'T', 'V', 'X', 'Z', '0', '1', '2', '3', '4', '5', '6', '7', '8', '9',\n",
    "               '#', '%', '(', ')', '[', ']', '-', '+', '=', '.', '/', '\\\\', '@']\n",
    "\n",
    "char_to_ind = {c : i for i, c in enumerate(SMILES_CHAR)}"
   ]
  },
  {
   "cell_type": "code",
   "execution_count": 12,
   "id": "14fc6873",
   "metadata": {},
   "outputs": [],
   "source": [
    "def smiles_to_array(smiles: str) -> np.array:\n",
    "    mol_array = np.zeros((len(smiles), len(SMILES_CHAR)))\n",
    "    for i, c in enumerate(smiles):\n",
    "        mol_array[i][char_to_ind[c]] = 1\n",
    "    return mol_array\n",
    "\n",
    "def array_to_smiles(mol_array: np.array) -> str:\n",
    "    smiles = ''\n",
    "    for l in mol_array:\n",
    "        j = np.argmax(l)\n",
    "        smiles += SMILES_CHAR[j]\n",
    "    return smiles"
   ]
  },
  {
   "cell_type": "code",
   "execution_count": 13,
   "id": "23421765",
   "metadata": {},
   "outputs": [
    {
     "data": {
      "text/plain": [
       "'CCN(CC)C(=O)C1=CC=CC(=C1)C'"
      ]
     },
     "execution_count": 13,
     "metadata": {},
     "output_type": "execute_result"
    }
   ],
   "source": [
    "smiles = 'CCN(CC)C(=O)C1=CC=CC(=C1)C'\n",
    "ar = smiles_to_array(smiles)\n",
    "array_to_smiles(ar)"
   ]
  },
  {
   "cell_type": "code",
   "execution_count": null,
   "id": "448abdb9",
   "metadata": {},
   "outputs": [],
   "source": []
  }
 ],
 "metadata": {
  "kernelspec": {
   "display_name": "Python 3 (ipykernel)",
   "language": "python",
   "name": "python3"
  },
  "language_info": {
   "codemirror_mode": {
    "name": "ipython",
    "version": 3
   },
   "file_extension": ".py",
   "mimetype": "text/x-python",
   "name": "python",
   "nbconvert_exporter": "python",
   "pygments_lexer": "ipython3",
   "version": "3.9.7"
  }
 },
 "nbformat": 4,
 "nbformat_minor": 5
}
